{
  "nbformat": 4,
  "nbformat_minor": 0,
  "metadata": {
    "colab": {
      "name": "stocks.ipynb",
      "provenance": [],
      "authorship_tag": "ABX9TyNSIukRAUAzKdyAg4pHbhPA",
      "include_colab_link": true
    },
    "kernelspec": {
      "name": "python3",
      "display_name": "Python 3"
    }
  },
  "cells": [
    {
      "cell_type": "markdown",
      "metadata": {
        "id": "view-in-github",
        "colab_type": "text"
      },
      "source": [
        "<a href=\"https://colab.research.google.com/github/andreidore/FSM/blob/master/prophet/stocks.ipynb\" target=\"_parent\"><img src=\"https://colab.research.google.com/assets/colab-badge.svg\" alt=\"Open In Colab\"/></a>"
      ]
    },
    {
      "cell_type": "markdown",
      "metadata": {
        "id": "OTzgxcHGddxB"
      },
      "source": [
        "https://towardsdatascience.com/time-series-forecasting-predicting-stock-prices-using-facebooks-prophet-model-9ee1657132b5"
      ]
    },
    {
      "cell_type": "code",
      "metadata": {
        "colab": {
          "base_uri": "https://localhost:8080/"
        },
        "id": "nc1ND5DBeLTf",
        "outputId": "c07d826d-52de-4bba-c75d-5170494fe7a2"
      },
      "source": [
        "!pip install fbprophet"
      ],
      "execution_count": 8,
      "outputs": [
        {
          "output_type": "stream",
          "text": [
            "Requirement already satisfied: fbprophet in /usr/local/lib/python3.6/dist-packages (0.7.1)\n",
            "Requirement already satisfied: Cython>=0.22 in /usr/local/lib/python3.6/dist-packages (from fbprophet) (0.29.21)\n",
            "Requirement already satisfied: cmdstanpy==0.9.5 in /usr/local/lib/python3.6/dist-packages (from fbprophet) (0.9.5)\n",
            "Requirement already satisfied: pystan>=2.14 in /usr/local/lib/python3.6/dist-packages (from fbprophet) (2.19.1.1)\n",
            "Requirement already satisfied: numpy>=1.15.4 in /usr/local/lib/python3.6/dist-packages (from fbprophet) (1.19.4)\n",
            "Requirement already satisfied: pandas>=1.0.4 in /usr/local/lib/python3.6/dist-packages (from fbprophet) (1.1.5)\n",
            "Requirement already satisfied: matplotlib>=2.0.0 in /usr/local/lib/python3.6/dist-packages (from fbprophet) (3.2.2)\n",
            "Requirement already satisfied: LunarCalendar>=0.0.9 in /usr/local/lib/python3.6/dist-packages (from fbprophet) (0.0.9)\n",
            "Requirement already satisfied: convertdate>=2.1.2 in /usr/local/lib/python3.6/dist-packages (from fbprophet) (2.2.0)\n",
            "Requirement already satisfied: holidays>=0.10.2 in /usr/local/lib/python3.6/dist-packages (from fbprophet) (0.10.4)\n",
            "Requirement already satisfied: setuptools-git>=1.2 in /usr/local/lib/python3.6/dist-packages (from fbprophet) (1.2)\n",
            "Requirement already satisfied: python-dateutil>=2.8.0 in /usr/local/lib/python3.6/dist-packages (from fbprophet) (2.8.1)\n",
            "Requirement already satisfied: tqdm>=4.36.1 in /usr/local/lib/python3.6/dist-packages (from fbprophet) (4.41.1)\n",
            "Requirement already satisfied: pytz>=2017.2 in /usr/local/lib/python3.6/dist-packages (from pandas>=1.0.4->fbprophet) (2018.9)\n",
            "Requirement already satisfied: cycler>=0.10 in /usr/local/lib/python3.6/dist-packages (from matplotlib>=2.0.0->fbprophet) (0.10.0)\n",
            "Requirement already satisfied: pyparsing!=2.0.4,!=2.1.2,!=2.1.6,>=2.0.1 in /usr/local/lib/python3.6/dist-packages (from matplotlib>=2.0.0->fbprophet) (2.4.7)\n",
            "Requirement already satisfied: kiwisolver>=1.0.1 in /usr/local/lib/python3.6/dist-packages (from matplotlib>=2.0.0->fbprophet) (1.3.1)\n",
            "Requirement already satisfied: ephem>=3.7.5.3 in /usr/local/lib/python3.6/dist-packages (from LunarCalendar>=0.0.9->fbprophet) (3.7.7.1)\n",
            "Requirement already satisfied: pymeeus<=1,>=0.3.6 in /usr/local/lib/python3.6/dist-packages (from convertdate>=2.1.2->fbprophet) (0.3.7)\n",
            "Requirement already satisfied: six in /usr/local/lib/python3.6/dist-packages (from holidays>=0.10.2->fbprophet) (1.15.0)\n",
            "Requirement already satisfied: korean-lunar-calendar in /usr/local/lib/python3.6/dist-packages (from holidays>=0.10.2->fbprophet) (0.2.1)\n"
          ],
          "name": "stdout"
        }
      ]
    },
    {
      "cell_type": "code",
      "metadata": {
        "id": "lS2MiFq2cBty"
      },
      "source": [
        "import numpy as np\n",
        "import pandas as pd\n",
        "import matplotlib.pyplot as plt\n",
        "from fbprophet import Prophet"
      ],
      "execution_count": 9,
      "outputs": []
    },
    {
      "cell_type": "code",
      "metadata": {
        "id": "xH2rRlKNdS3q"
      },
      "source": [
        "data=pd.read_csv(\"GOOG.csv\")"
      ],
      "execution_count": 4,
      "outputs": []
    },
    {
      "cell_type": "code",
      "metadata": {
        "colab": {
          "base_uri": "https://localhost:8080/",
          "height": 204
        },
        "id": "r8iu7lFIdXAa",
        "outputId": "98249065-b43f-434d-df8e-5850c7a1e62a"
      },
      "source": [
        "data.head()"
      ],
      "execution_count": 5,
      "outputs": [
        {
          "output_type": "execute_result",
          "data": {
            "text/html": [
              "<div>\n",
              "<style scoped>\n",
              "    .dataframe tbody tr th:only-of-type {\n",
              "        vertical-align: middle;\n",
              "    }\n",
              "\n",
              "    .dataframe tbody tr th {\n",
              "        vertical-align: top;\n",
              "    }\n",
              "\n",
              "    .dataframe thead th {\n",
              "        text-align: right;\n",
              "    }\n",
              "</style>\n",
              "<table border=\"1\" class=\"dataframe\">\n",
              "  <thead>\n",
              "    <tr style=\"text-align: right;\">\n",
              "      <th></th>\n",
              "      <th>Date</th>\n",
              "      <th>Open</th>\n",
              "      <th>High</th>\n",
              "      <th>Low</th>\n",
              "      <th>Close</th>\n",
              "      <th>Adj Close</th>\n",
              "      <th>Volume</th>\n",
              "    </tr>\n",
              "  </thead>\n",
              "  <tbody>\n",
              "    <tr>\n",
              "      <th>0</th>\n",
              "      <td>2015-06-08</td>\n",
              "      <td>533.309998</td>\n",
              "      <td>534.119995</td>\n",
              "      <td>526.239990</td>\n",
              "      <td>526.830017</td>\n",
              "      <td>526.830017</td>\n",
              "      <td>1520600</td>\n",
              "    </tr>\n",
              "    <tr>\n",
              "      <th>1</th>\n",
              "      <td>2015-06-09</td>\n",
              "      <td>527.559998</td>\n",
              "      <td>529.200012</td>\n",
              "      <td>523.010010</td>\n",
              "      <td>526.690002</td>\n",
              "      <td>526.690002</td>\n",
              "      <td>1455300</td>\n",
              "    </tr>\n",
              "    <tr>\n",
              "      <th>2</th>\n",
              "      <td>2015-06-10</td>\n",
              "      <td>529.359985</td>\n",
              "      <td>538.359985</td>\n",
              "      <td>529.349976</td>\n",
              "      <td>536.690002</td>\n",
              "      <td>536.690002</td>\n",
              "      <td>1815000</td>\n",
              "    </tr>\n",
              "    <tr>\n",
              "      <th>3</th>\n",
              "      <td>2015-06-11</td>\n",
              "      <td>538.424988</td>\n",
              "      <td>538.979980</td>\n",
              "      <td>533.020020</td>\n",
              "      <td>534.609985</td>\n",
              "      <td>534.609985</td>\n",
              "      <td>1217500</td>\n",
              "    </tr>\n",
              "    <tr>\n",
              "      <th>4</th>\n",
              "      <td>2015-06-12</td>\n",
              "      <td>531.599976</td>\n",
              "      <td>533.119995</td>\n",
              "      <td>530.159973</td>\n",
              "      <td>532.330017</td>\n",
              "      <td>532.330017</td>\n",
              "      <td>955800</td>\n",
              "    </tr>\n",
              "  </tbody>\n",
              "</table>\n",
              "</div>"
            ],
            "text/plain": [
              "         Date        Open        High  ...       Close   Adj Close   Volume\n",
              "0  2015-06-08  533.309998  534.119995  ...  526.830017  526.830017  1520600\n",
              "1  2015-06-09  527.559998  529.200012  ...  526.690002  526.690002  1455300\n",
              "2  2015-06-10  529.359985  538.359985  ...  536.690002  536.690002  1815000\n",
              "3  2015-06-11  538.424988  538.979980  ...  534.609985  534.609985  1217500\n",
              "4  2015-06-12  531.599976  533.119995  ...  532.330017  532.330017   955800\n",
              "\n",
              "[5 rows x 7 columns]"
            ]
          },
          "metadata": {
            "tags": []
          },
          "execution_count": 5
        }
      ]
    },
    {
      "cell_type": "code",
      "metadata": {
        "colab": {
          "base_uri": "https://localhost:8080/",
          "height": 297
        },
        "id": "z3WOZrHUdcZd",
        "outputId": "f4a2f8e4-71a9-494f-85bb-55c278978b71"
      },
      "source": [
        "data.describe()"
      ],
      "execution_count": 6,
      "outputs": [
        {
          "output_type": "execute_result",
          "data": {
            "text/html": [
              "<div>\n",
              "<style scoped>\n",
              "    .dataframe tbody tr th:only-of-type {\n",
              "        vertical-align: middle;\n",
              "    }\n",
              "\n",
              "    .dataframe tbody tr th {\n",
              "        vertical-align: top;\n",
              "    }\n",
              "\n",
              "    .dataframe thead th {\n",
              "        text-align: right;\n",
              "    }\n",
              "</style>\n",
              "<table border=\"1\" class=\"dataframe\">\n",
              "  <thead>\n",
              "    <tr style=\"text-align: right;\">\n",
              "      <th></th>\n",
              "      <th>Open</th>\n",
              "      <th>High</th>\n",
              "      <th>Low</th>\n",
              "      <th>Close</th>\n",
              "      <th>Adj Close</th>\n",
              "      <th>Volume</th>\n",
              "    </tr>\n",
              "  </thead>\n",
              "  <tbody>\n",
              "    <tr>\n",
              "      <th>count</th>\n",
              "      <td>1262.000000</td>\n",
              "      <td>1262.000000</td>\n",
              "      <td>1262.000000</td>\n",
              "      <td>1262.000000</td>\n",
              "      <td>1262.000000</td>\n",
              "      <td>1.262000e+03</td>\n",
              "    </tr>\n",
              "    <tr>\n",
              "      <th>mean</th>\n",
              "      <td>982.884677</td>\n",
              "      <td>991.980983</td>\n",
              "      <td>974.031114</td>\n",
              "      <td>983.451723</td>\n",
              "      <td>983.451723</td>\n",
              "      <td>1.723551e+06</td>\n",
              "    </tr>\n",
              "    <tr>\n",
              "      <th>std</th>\n",
              "      <td>231.644952</td>\n",
              "      <td>234.464420</td>\n",
              "      <td>229.580341</td>\n",
              "      <td>232.283568</td>\n",
              "      <td>232.283568</td>\n",
              "      <td>8.637905e+05</td>\n",
              "    </tr>\n",
              "    <tr>\n",
              "      <th>min</th>\n",
              "      <td>519.500000</td>\n",
              "      <td>522.734009</td>\n",
              "      <td>515.179993</td>\n",
              "      <td>516.830017</td>\n",
              "      <td>516.830017</td>\n",
              "      <td>3.475000e+05</td>\n",
              "    </tr>\n",
              "    <tr>\n",
              "      <th>25%</th>\n",
              "      <td>769.570007</td>\n",
              "      <td>774.500000</td>\n",
              "      <td>764.652511</td>\n",
              "      <td>769.252502</td>\n",
              "      <td>769.252502</td>\n",
              "      <td>1.212700e+06</td>\n",
              "    </tr>\n",
              "    <tr>\n",
              "      <th>50%</th>\n",
              "      <td>1020.130005</td>\n",
              "      <td>1034.104981</td>\n",
              "      <td>1008.305023</td>\n",
              "      <td>1021.044983</td>\n",
              "      <td>1021.044983</td>\n",
              "      <td>1.488950e+06</td>\n",
              "    </tr>\n",
              "    <tr>\n",
              "      <th>75%</th>\n",
              "      <td>1159.880005</td>\n",
              "      <td>1174.482544</td>\n",
              "      <td>1150.543488</td>\n",
              "      <td>1163.472442</td>\n",
              "      <td>1163.472442</td>\n",
              "      <td>1.964575e+06</td>\n",
              "    </tr>\n",
              "    <tr>\n",
              "      <th>max</th>\n",
              "      <td>1525.069946</td>\n",
              "      <td>1532.105957</td>\n",
              "      <td>1521.400024</td>\n",
              "      <td>1526.689941</td>\n",
              "      <td>1526.689941</td>\n",
              "      <td>1.116490e+07</td>\n",
              "    </tr>\n",
              "  </tbody>\n",
              "</table>\n",
              "</div>"
            ],
            "text/plain": [
              "              Open         High  ...    Adj Close        Volume\n",
              "count  1262.000000  1262.000000  ...  1262.000000  1.262000e+03\n",
              "mean    982.884677   991.980983  ...   983.451723  1.723551e+06\n",
              "std     231.644952   234.464420  ...   232.283568  8.637905e+05\n",
              "min     519.500000   522.734009  ...   516.830017  3.475000e+05\n",
              "25%     769.570007   774.500000  ...   769.252502  1.212700e+06\n",
              "50%    1020.130005  1034.104981  ...  1021.044983  1.488950e+06\n",
              "75%    1159.880005  1174.482544  ...  1163.472442  1.964575e+06\n",
              "max    1525.069946  1532.105957  ...  1526.689941  1.116490e+07\n",
              "\n",
              "[8 rows x 6 columns]"
            ]
          },
          "metadata": {
            "tags": []
          },
          "execution_count": 6
        }
      ]
    },
    {
      "cell_type": "code",
      "metadata": {
        "colab": {
          "base_uri": "https://localhost:8080/",
          "height": 204
        },
        "id": "S1gB3hw1drIV",
        "outputId": "dc16dba7-36bd-42f6-fb32-f857538d6765"
      },
      "source": [
        "data=data[[\"Date\",\"Close\"]]\n",
        "data=data.rename(columns={\"Date\":\"ds\",\"Close\":\"y\"})\n",
        "data.head()"
      ],
      "execution_count": 7,
      "outputs": [
        {
          "output_type": "execute_result",
          "data": {
            "text/html": [
              "<div>\n",
              "<style scoped>\n",
              "    .dataframe tbody tr th:only-of-type {\n",
              "        vertical-align: middle;\n",
              "    }\n",
              "\n",
              "    .dataframe tbody tr th {\n",
              "        vertical-align: top;\n",
              "    }\n",
              "\n",
              "    .dataframe thead th {\n",
              "        text-align: right;\n",
              "    }\n",
              "</style>\n",
              "<table border=\"1\" class=\"dataframe\">\n",
              "  <thead>\n",
              "    <tr style=\"text-align: right;\">\n",
              "      <th></th>\n",
              "      <th>ds</th>\n",
              "      <th>y</th>\n",
              "    </tr>\n",
              "  </thead>\n",
              "  <tbody>\n",
              "    <tr>\n",
              "      <th>0</th>\n",
              "      <td>2015-06-08</td>\n",
              "      <td>526.830017</td>\n",
              "    </tr>\n",
              "    <tr>\n",
              "      <th>1</th>\n",
              "      <td>2015-06-09</td>\n",
              "      <td>526.690002</td>\n",
              "    </tr>\n",
              "    <tr>\n",
              "      <th>2</th>\n",
              "      <td>2015-06-10</td>\n",
              "      <td>536.690002</td>\n",
              "    </tr>\n",
              "    <tr>\n",
              "      <th>3</th>\n",
              "      <td>2015-06-11</td>\n",
              "      <td>534.609985</td>\n",
              "    </tr>\n",
              "    <tr>\n",
              "      <th>4</th>\n",
              "      <td>2015-06-12</td>\n",
              "      <td>532.330017</td>\n",
              "    </tr>\n",
              "  </tbody>\n",
              "</table>\n",
              "</div>"
            ],
            "text/plain": [
              "           ds           y\n",
              "0  2015-06-08  526.830017\n",
              "1  2015-06-09  526.690002\n",
              "2  2015-06-10  536.690002\n",
              "3  2015-06-11  534.609985\n",
              "4  2015-06-12  532.330017"
            ]
          },
          "metadata": {
            "tags": []
          },
          "execution_count": 7
        }
      ]
    },
    {
      "cell_type": "code",
      "metadata": {
        "colab": {
          "base_uri": "https://localhost:8080/"
        },
        "id": "Kd_GEDOZeBZp",
        "outputId": "a50949d5-e3b5-485e-9ba1-c5598c5dba98"
      },
      "source": [
        "model=Prophet(daily_seasonality=True)\n",
        "model.fit(data)"
      ],
      "execution_count": 10,
      "outputs": [
        {
          "output_type": "stream",
          "text": [
            "INFO:numexpr.utils:NumExpr defaulting to 2 threads.\n"
          ],
          "name": "stderr"
        },
        {
          "output_type": "execute_result",
          "data": {
            "text/plain": [
              "<fbprophet.forecaster.Prophet at 0x7f69cbf83d68>"
            ]
          },
          "metadata": {
            "tags": []
          },
          "execution_count": 10
        }
      ]
    },
    {
      "cell_type": "code",
      "metadata": {
        "colab": {
          "base_uri": "https://localhost:8080/",
          "height": 454
        },
        "id": "Hm22lctbepXQ",
        "outputId": "cfbf8e7b-7359-441a-b30a-83b5d877b9a4"
      },
      "source": [
        "future=model.make_future_dataframe(periods=365)\n",
        "prediction=model.predict(future)\n",
        "\n",
        "model.plot(prediction)\n",
        "\n",
        "plt.title(\"Prediction\")\n",
        "plt.xlabel(\"Date\")\n",
        "plt.ylabel(\"Price\")\n",
        "plt.show()"
      ],
      "execution_count": 12,
      "outputs": [
        {
          "output_type": "display_data",
          "data": {
            "image/png": "[encoded data removed]",
            "text/plain": [
              "<Figure size 720x432 with 1 Axes>"
            ]
          },
          "metadata": {
            "tags": []
          }
        }
      ]
    },
    {
      "cell_type": "code",
      "metadata": {
        "colab": {
          "base_uri": "https://localhost:8080/",
          "height": 309
        },
        "id": "n1iHn9XshJIR",
        "outputId": "adb35a52-3500-4057-c671-2873d4983b44"
      },
      "source": [
        "prediction.head()"
      ],
      "execution_count": 13,
      "outputs": [
        {
          "output_type": "execute_result",
          "data": {
            "text/html": [
              "<div>\n",
              "<style scoped>\n",
              "    .dataframe tbody tr th:only-of-type {\n",
              "        vertical-align: middle;\n",
              "    }\n",
              "\n",
              "    .dataframe tbody tr th {\n",
              "        vertical-align: top;\n",
              "    }\n",
              "\n",
              "    .dataframe thead th {\n",
              "        text-align: right;\n",
              "    }\n",
              "</style>\n",
              "<table border=\"1\" class=\"dataframe\">\n",
              "  <thead>\n",
              "    <tr style=\"text-align: right;\">\n",
              "      <th></th>\n",
              "      <th>ds</th>\n",
              "      <th>trend</th>\n",
              "      <th>yhat_lower</th>\n",
              "      <th>yhat_upper</th>\n",
              "      <th>trend_lower</th>\n",
              "      <th>trend_upper</th>\n",
              "      <th>additive_terms</th>\n",
              "      <th>additive_terms_lower</th>\n",
              "      <th>additive_terms_upper</th>\n",
              "      <th>daily</th>\n",
              "      <th>daily_lower</th>\n",
              "      <th>daily_upper</th>\n",
              "      <th>weekly</th>\n",
              "      <th>weekly_lower</th>\n",
              "      <th>weekly_upper</th>\n",
              "      <th>yearly</th>\n",
              "      <th>yearly_lower</th>\n",
              "      <th>yearly_upper</th>\n",
              "      <th>multiplicative_terms</th>\n",
              "      <th>multiplicative_terms_lower</th>\n",
              "      <th>multiplicative_terms_upper</th>\n",
              "      <th>yhat</th>\n",
              "    </tr>\n",
              "  </thead>\n",
              "  <tbody>\n",
              "    <tr>\n",
              "      <th>0</th>\n",
              "      <td>2015-06-08</td>\n",
              "      <td>533.210809</td>\n",
              "      <td>497.473592</td>\n",
              "      <td>631.325290</td>\n",
              "      <td>533.210809</td>\n",
              "      <td>533.210809</td>\n",
              "      <td>30.365851</td>\n",
              "      <td>30.365851</td>\n",
              "      <td>30.365851</td>\n",
              "      <td>37.828814</td>\n",
              "      <td>37.828814</td>\n",
              "      <td>37.828814</td>\n",
              "      <td>0.634276</td>\n",
              "      <td>0.634276</td>\n",
              "      <td>0.634276</td>\n",
              "      <td>-8.097239</td>\n",
              "      <td>-8.097239</td>\n",
              "      <td>-8.097239</td>\n",
              "      <td>0.0</td>\n",
              "      <td>0.0</td>\n",
              "      <td>0.0</td>\n",
              "      <td>563.576660</td>\n",
              "    </tr>\n",
              "    <tr>\n",
              "      <th>1</th>\n",
              "      <td>2015-06-09</td>\n",
              "      <td>533.929793</td>\n",
              "      <td>491.886578</td>\n",
              "      <td>638.200863</td>\n",
              "      <td>533.929793</td>\n",
              "      <td>533.929793</td>\n",
              "      <td>30.085217</td>\n",
              "      <td>30.085217</td>\n",
              "      <td>30.085217</td>\n",
              "      <td>37.828814</td>\n",
              "      <td>37.828814</td>\n",
              "      <td>37.828814</td>\n",
              "      <td>1.738391</td>\n",
              "      <td>1.738391</td>\n",
              "      <td>1.738391</td>\n",
              "      <td>-9.481988</td>\n",
              "      <td>-9.481988</td>\n",
              "      <td>-9.481988</td>\n",
              "      <td>0.0</td>\n",
              "      <td>0.0</td>\n",
              "      <td>0.0</td>\n",
              "      <td>564.015010</td>\n",
              "    </tr>\n",
              "    <tr>\n",
              "      <th>2</th>\n",
              "      <td>2015-06-10</td>\n",
              "      <td>534.648778</td>\n",
              "      <td>501.655349</td>\n",
              "      <td>630.142707</td>\n",
              "      <td>534.648778</td>\n",
              "      <td>534.648778</td>\n",
              "      <td>29.327448</td>\n",
              "      <td>29.327448</td>\n",
              "      <td>29.327448</td>\n",
              "      <td>37.828814</td>\n",
              "      <td>37.828814</td>\n",
              "      <td>37.828814</td>\n",
              "      <td>2.539433</td>\n",
              "      <td>2.539433</td>\n",
              "      <td>2.539433</td>\n",
              "      <td>-11.040799</td>\n",
              "      <td>-11.040799</td>\n",
              "      <td>-11.040799</td>\n",
              "      <td>0.0</td>\n",
              "      <td>0.0</td>\n",
              "      <td>0.0</td>\n",
              "      <td>563.976226</td>\n",
              "    </tr>\n",
              "    <tr>\n",
              "      <th>3</th>\n",
              "      <td>2015-06-11</td>\n",
              "      <td>535.367763</td>\n",
              "      <td>495.526276</td>\n",
              "      <td>629.404182</td>\n",
              "      <td>535.367763</td>\n",
              "      <td>535.367763</td>\n",
              "      <td>27.450121</td>\n",
              "      <td>27.450121</td>\n",
              "      <td>27.450121</td>\n",
              "      <td>37.828814</td>\n",
              "      <td>37.828814</td>\n",
              "      <td>37.828814</td>\n",
              "      <td>2.388287</td>\n",
              "      <td>2.388287</td>\n",
              "      <td>2.388287</td>\n",
              "      <td>-12.766980</td>\n",
              "      <td>-12.766980</td>\n",
              "      <td>-12.766980</td>\n",
              "      <td>0.0</td>\n",
              "      <td>0.0</td>\n",
              "      <td>0.0</td>\n",
              "      <td>562.817883</td>\n",
              "    </tr>\n",
              "    <tr>\n",
              "      <th>4</th>\n",
              "      <td>2015-06-12</td>\n",
              "      <td>536.086748</td>\n",
              "      <td>499.164121</td>\n",
              "      <td>626.641223</td>\n",
              "      <td>536.086748</td>\n",
              "      <td>536.086748</td>\n",
              "      <td>25.335186</td>\n",
              "      <td>25.335186</td>\n",
              "      <td>25.335186</td>\n",
              "      <td>37.828814</td>\n",
              "      <td>37.828814</td>\n",
              "      <td>37.828814</td>\n",
              "      <td>2.156816</td>\n",
              "      <td>2.156816</td>\n",
              "      <td>2.156816</td>\n",
              "      <td>-14.650443</td>\n",
              "      <td>-14.650443</td>\n",
              "      <td>-14.650443</td>\n",
              "      <td>0.0</td>\n",
              "      <td>0.0</td>\n",
              "      <td>0.0</td>\n",
              "      <td>561.421934</td>\n",
              "    </tr>\n",
              "  </tbody>\n",
              "</table>\n",
              "</div>"
            ],
            "text/plain": [
              "          ds       trend  ...  multiplicative_terms_upper        yhat\n",
              "0 2015-06-08  533.210809  ...                         0.0  563.576660\n",
              "1 2015-06-09  533.929793  ...                         0.0  564.015010\n",
              "2 2015-06-10  534.648778  ...                         0.0  563.976226\n",
              "3 2015-06-11  535.367763  ...                         0.0  562.817883\n",
              "4 2015-06-12  536.086748  ...                         0.0  561.421934\n",
              "\n",
              "[5 rows x 22 columns]"
            ]
          },
          "metadata": {
            "tags": []
          },
          "execution_count": 13
        }
      ]
    }
  ]
}